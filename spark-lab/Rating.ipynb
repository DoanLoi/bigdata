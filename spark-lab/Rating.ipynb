{
 "cells": [
  {
   "cell_type": "markdown",
   "metadata": {},
   "source": [
    "# Khởi tạo môi trường"
   ]
  },
  {
   "cell_type": "code",
   "execution_count": 1,
   "metadata": {},
   "outputs": [],
   "source": [
    "import os \n",
    "\n",
    "mongo = \"org.mongodb.spark:mongo-spark-connector_2.12:3.0.0\"\n",
    "\n",
    "os.environ[\"PYSPARK_PYTHON\"]=\"python3.7\"\n",
    "os.environ[\"PYSPARK_DRIVER_PYTHON\"]=\"python3.7\"\n",
    "os.environ[\"PYSPARK_SUBMIT_ARGS\"] = (\"--packages {} pyspark-shell\".format(mongo))"
   ]
  },
  {
   "cell_type": "markdown",
   "metadata": {},
   "source": [
    "# Tạo phiên spark"
   ]
  },
  {
   "cell_type": "code",
   "execution_count": 2,
   "metadata": {},
   "outputs": [],
   "source": [
    "from pyspark.sql import SparkSession, DataFrame\n",
    "from pyspark.sql.functions import *\n",
    "from pyspark.sql.types import *\n",
    "\n",
    "spark = SparkSession \\\n",
    "        .builder \\\n",
    "        .master(\"local\") \\\n",
    "        .appName(\"Spark\") \\\n",
    "        .config(\"spark.mongodb.input.uri\", \"mongodb://172.16.0.2:27017/bigdata.application\") \\\n",
    "        .config(\"spark.jars.packages\", \"org.mongodb.spark:mongo-spark-connector_2.12:3.0.0\") \\\n",
    "        .getOrCreate()"
   ]
  },
  {
   "cell_type": "markdown",
   "metadata": {},
   "source": [
    "# Đọc dữ liệu từ Mongodb\n",
    "\n",
    "Xóa đi thuộc tính _id do mongo tự tạo"
   ]
  },
  {
   "cell_type": "code",
   "execution_count": 3,
   "metadata": {},
   "outputs": [],
   "source": [
    "df = spark.read.format(\"mongo\").load()"
   ]
  },
  {
   "cell_type": "code",
   "execution_count": 4,
   "metadata": {},
   "outputs": [
    {
     "name": "stdout",
     "output_type": "stream",
     "text": [
      "root\n",
      " |-- _id: struct (nullable = true)\n",
      " |    |-- oid: string (nullable = true)\n",
      " |-- androidVersion: integer (nullable = true)\n",
      " |-- category: string (nullable = true)\n",
      " |-- contentRating: string (nullable = true)\n",
      " |-- currentVersion: integer (nullable = true)\n",
      " |-- installs: long (nullable = true)\n",
      " |-- lastUpdate: long (nullable = true)\n",
      " |-- negative: integer (nullable = true)\n",
      " |-- positive: integer (nullable = true)\n",
      " |-- price: double (nullable = true)\n",
      " |-- ratings: long (nullable = true)\n",
      " |-- reviews: long (nullable = true)\n",
      " |-- score: double (nullable = true)\n",
      " |-- size: integer (nullable = true)\n",
      " |-- title: string (nullable = true)\n",
      "\n"
     ]
    }
   ],
   "source": [
    "df.printSchema()"
   ]
  },
  {
   "cell_type": "code",
   "execution_count": 5,
   "metadata": {},
   "outputs": [],
   "source": [
    "df = df.drop('_id')"
   ]
  },
  {
   "cell_type": "code",
   "execution_count": 6,
   "metadata": {},
   "outputs": [
    {
     "name": "stdout",
     "output_type": "stream",
     "text": [
      "+--------------+----------------+-------------+--------------+--------+----------+--------+--------+-----+-------+-------+---------+----+--------------------+\n",
      "|androidVersion|        category|contentRating|currentVersion|installs|lastUpdate|negative|positive|price|ratings|reviews|    score|size|               title|\n",
      "+--------------+----------------+-------------+--------------+--------+----------+--------+--------+-----+-------+-------+---------+----+--------------------+\n",
      "|            70|    Food & Drink|     Everyone|           125|  500000|1598263608|       9|      31|  0.0|   1600|    926|3.8198757|  36|       Jumbo Extra's|\n",
      "|            41|News & Magazines| Everyone 10+|           745|   10000|1586900532|      14|      26|  0.0|    190|     88|     2.97|  29|Delaware County D...|\n",
      "|            43|Health & Fitness|     Everyone|           522| 1000000|1600248328|       8|      32|  0.0|  14646|   8866|4.5125256|  24|Openrider - GPS C...|\n",
      "|            44|    House & Home|     Everyone|           113|  100000|1598425796|      11|      29|  0.0|    746|    485|3.2941177|  62|               Genio|\n",
      "|            60|        Business|     Everyone|           288|  100000|1604446987|       6|      34|  0.0|    241|     51| 4.207921|  95|realcommercial.co...|\n",
      "+--------------+----------------+-------------+--------------+--------+----------+--------+--------+-----+-------+-------+---------+----+--------------------+\n",
      "only showing top 5 rows\n",
      "\n"
     ]
    }
   ],
   "source": [
    "df.show(5)"
   ]
  },
  {
   "cell_type": "markdown",
   "metadata": {},
   "source": [
    "# Quan sát một số thuộc tính của dữ liệu"
   ]
  },
  {
   "cell_type": "code",
   "execution_count": 7,
   "metadata": {},
   "outputs": [
    {
     "name": "stdout",
     "output_type": "stream",
     "text": [
      "+-------+---------------+--------+--------+------+-----------+-----------+-------+------+\n",
      "|summary|       installs|negative|positive| price|    ratings|    reviews|   size| score|\n",
      "+-------+---------------+--------+--------+------+-----------+-----------+-------+------+\n",
      "|  count|         3008.0|  3008.0|  3008.0|3008.0|     3008.0|     3008.0| 3008.0|3008.0|\n",
      "|   mean|   2634993.8497|  7.7713|  31.754|0.1054| 59530.0851| 21788.7297|39.7743|3.9423|\n",
      "| stddev|2.06761073259E7|  5.6657|  5.6946|1.8382|418068.4062|150725.1067|52.4433|0.6381|\n",
      "|    min|          500.0|     1.0|     8.0|   0.0|       36.0|       29.0|    0.0| 1.017|\n",
      "|    max|          1.0E9|    32.0|    39.0| 89.99| 1.380783E7|  5304892.0|  989.0|4.9375|\n",
      "+-------+---------------+--------+--------+------+-----------+-----------+-------+------+\n",
      "\n"
     ]
    }
   ],
   "source": [
    "import pyspark.sql.functions as F\n",
    "df.describe().select(\n",
    "                    \"summary\",\n",
    "                    F.round(\"installs\", 4).alias(\"installs\"),\n",
    "                    F.round(\"negative\", 4).alias(\"negative\"),\n",
    "                    F.round(\"positive\", 4).alias(\"positive\"),\n",
    "                    F.round(\"price\", 4).alias(\"price\"),\n",
    "                    F.round(\"ratings\", 4).alias(\"ratings\"),\n",
    "                    F.round(\"reviews\", 4).alias(\"reviews\"),\n",
    "                    F.round(\"size\", 4).alias(\"size\"),\n",
    "                    F.round(\"score\", 4).alias(\"score\"))\\\n",
    "                    .show()"
   ]
  },
  {
   "cell_type": "markdown",
   "metadata": {},
   "source": [
    "# Tạo dữ liệu cho mô hình học máy"
   ]
  },
  {
   "cell_type": "code",
   "execution_count": 8,
   "metadata": {},
   "outputs": [],
   "source": [
    "df = df.select('score','size','reviews','ratings','price','positive','negative','installs');"
   ]
  },
  {
   "cell_type": "markdown",
   "metadata": {},
   "source": [
    "# Feature selecting"
   ]
  },
  {
   "cell_type": "code",
   "execution_count": 9,
   "metadata": {},
   "outputs": [],
   "source": [
    "feature_cols = ['size','reviews','ratings','price','positive','negative','installs']"
   ]
  },
  {
   "cell_type": "markdown",
   "metadata": {},
   "source": [
    "# Tạo vector thuộc tính"
   ]
  },
  {
   "cell_type": "code",
   "execution_count": 10,
   "metadata": {},
   "outputs": [],
   "source": [
    "from pyspark.ml.feature import VectorAssembler\n",
    "assembler = VectorAssembler(inputCols=feature_cols, outputCol=\"features\") "
   ]
  },
  {
   "cell_type": "markdown",
   "metadata": {},
   "source": [
    "# Khởi tạo mô hình\n",
    "\n",
    "Mô hình học máy nhóm em lựa chọn là: <b>Gradient-boosted tree regression"
   ]
  },
  {
   "cell_type": "code",
   "execution_count": 11,
   "metadata": {},
   "outputs": [],
   "source": [
    "from pyspark.ml import Pipeline\n",
    "from pyspark.ml.regression import GBTRegressor\n",
    "from pyspark.ml.feature import VectorIndexer\n",
    "from pyspark.ml.evaluation import RegressionEvaluator"
   ]
  },
  {
   "cell_type": "code",
   "execution_count": 12,
   "metadata": {},
   "outputs": [],
   "source": [
    "featureIndexer = VectorIndexer(inputCol=\"features\", outputCol=\"indexedFeatures\", maxCategories=4)"
   ]
  },
  {
   "cell_type": "markdown",
   "metadata": {},
   "source": [
    "# Tạo tập dữ liệu train, test\n",
    "\n",
    "Dữ liệu được chia theo tỉ lệ 8:2"
   ]
  },
  {
   "cell_type": "code",
   "execution_count": 13,
   "metadata": {},
   "outputs": [],
   "source": [
    "import numpy as np\n",
    "rnd_seed=23\n",
    "np.random.seed=rnd_seed\n",
    "np.random.set_state=rnd_seed\n",
    "train_data, test_data = df.randomSplit([.8,.2], seed=rnd_seed)"
   ]
  },
  {
   "cell_type": "markdown",
   "metadata": {},
   "source": [
    "# Huấn luyện và kiểm thử\n",
    "\n",
    "Đánh giá mô hình với hàm tính sai số: <b>RMSE(root-mean-square)"
   ]
  },
  {
   "cell_type": "code",
   "execution_count": 14,
   "metadata": {},
   "outputs": [],
   "source": [
    "gbt = GBTRegressor(featuresCol=\"indexedFeatures\",labelCol=\"score\" ,maxIter=10)"
   ]
  },
  {
   "cell_type": "code",
   "execution_count": 15,
   "metadata": {},
   "outputs": [],
   "source": [
    "pipeline = Pipeline(stages=[assembler, featureIndexer, gbt])"
   ]
  },
  {
   "cell_type": "code",
   "execution_count": 16,
   "metadata": {},
   "outputs": [],
   "source": [
    "model = pipeline.fit(train_data)"
   ]
  },
  {
   "cell_type": "code",
   "execution_count": 17,
   "metadata": {},
   "outputs": [],
   "source": [
    "predictions = model.transform(test_data)"
   ]
  },
  {
   "cell_type": "code",
   "execution_count": 18,
   "metadata": {},
   "outputs": [
    {
     "name": "stdout",
     "output_type": "stream",
     "text": [
      "+------------------+---------+--------------------+\n",
      "|        prediction|    score|            features|\n",
      "+------------------+---------+--------------------+\n",
      "| 2.664432764094531|1.0170068|[23.0,621.0,984.0...|\n",
      "| 4.048884485688873|     1.59|[20.0,614.0,928.0...|\n",
      "| 2.399578421695146|      1.6|[15.0,84.0,105.0,...|\n",
      "|3.3655585545994953|1.6272874|[0.0,14530.0,3457...|\n",
      "|2.6380712011364307|1.8461539|[32.0,34.0,39.0,0...|\n",
      "| 3.193976929030702|1.9272727|[29.0,945.0,1104....|\n",
      "| 4.055340827827446|1.9287671|[53.0,2244.0,3578...|\n",
      "| 3.304793193200169|2.0067797|[18.0,1709.0,2920...|\n",
      "|3.7256261307552054|2.0207374|[56.0,5558.0,8686...|\n",
      "|3.9619794412492606| 2.068716|[22.0,57042.0,991...|\n",
      "| 2.684336333177493|2.1014493|[49.0,56.0,69.0,0...|\n",
      "| 2.777383871643496|     2.14|[23.0,165.0,308.0...|\n",
      "| 2.757009584499807|      2.2|[29.0,258.0,439.0...|\n",
      "|  4.12330435247285|2.2307692|[0.0,871.0,1511.0...|\n",
      "| 3.117998467439372|     2.29|[16.0,395.0,705.0...|\n",
      "| 4.099397973294209|2.3039215|[52.0,370.0,1021....|\n",
      "|  4.23867263012248|2.3250613|[51.0,29224.0,612...|\n",
      "| 3.945099353383871|2.3264463|[121.0,1523.0,239...|\n",
      "| 4.117935607995662|2.3391812|[84.0,1525.0,3385...|\n",
      "|3.6691135295896338|2.3442907|[0.0,3693.0,5686....|\n",
      "+------------------+---------+--------------------+\n",
      "only showing top 20 rows\n",
      "\n"
     ]
    }
   ],
   "source": [
    "predictions.select(\"prediction\", \"score\", \"features\").show()"
   ]
  },
  {
   "cell_type": "code",
   "execution_count": 19,
   "metadata": {},
   "outputs": [
    {
     "name": "stdout",
     "output_type": "stream",
     "text": [
      "Root Mean Squared Error (RMSE) on test data = 0.519705\n"
     ]
    }
   ],
   "source": [
    "evaluator = RegressionEvaluator(labelCol=\"score\", predictionCol=\"prediction\", metricName=\"rmse\")\n",
    "rmse = evaluator.evaluate(predictions)\n",
    "print(\"Root Mean Squared Error (RMSE) on test data = %g\" % rmse)"
   ]
  },
  {
   "cell_type": "code",
   "execution_count": 20,
   "metadata": {},
   "outputs": [
    {
     "name": "stdout",
     "output_type": "stream",
     "text": [
      "VectorIndexerModel: uid=VectorIndexer_868c79263843, numFeatures=7, handleInvalid=error\n"
     ]
    }
   ],
   "source": [
    "gbtModel = model.stages[1]\n",
    "print(gbtModel)"
   ]
  },
  {
   "cell_type": "markdown",
   "metadata": {},
   "source": [
    "# Lưu mô hình"
   ]
  },
  {
   "cell_type": "code",
   "execution_count": 26,
   "metadata": {},
   "outputs": [],
   "source": [
    "model.write().overwrite().save(\"hdfs://namenode/user/root/model/rating\")"
   ]
  },
  {
   "cell_type": "markdown",
   "metadata": {},
   "source": [
    "# Hàm dự doán"
   ]
  },
  {
   "cell_type": "code",
   "execution_count": 27,
   "metadata": {},
   "outputs": [],
   "source": [
    "from pyspark.ml.pipeline import PipelineModel\n",
    "model = PipelineModel.load(\"hdfs://namenode/user/root/model/rating\")"
   ]
  },
  {
   "cell_type": "code",
   "execution_count": 43,
   "metadata": {},
   "outputs": [],
   "source": [
    "def prediction_score(item):\n",
    "    prediction = model.transform(item)\n",
    "    return prediction.select('prediction').collect()[0][\"prediction\"]"
   ]
  },
  {
   "cell_type": "code",
   "execution_count": 29,
   "metadata": {},
   "outputs": [],
   "source": [
    "size, reviews, ratings, price, positive, negative, installs = (22, 2872, 6374, 0.0, 34, 6, 100000)\n",
    "feature_cols = ['size','reviews','ratings','price','positive','negative','installs']\n",
    "record = [(size, reviews, ratings, price, positive, negative, installs)]\n",
    "df = spark.createDataFrame(record, feature_cols)"
   ]
  },
  {
   "cell_type": "code",
   "execution_count": 44,
   "metadata": {},
   "outputs": [
    {
     "data": {
      "text/plain": [
       "4.19760038586903"
      ]
     },
     "execution_count": 44,
     "metadata": {},
     "output_type": "execute_result"
    }
   ],
   "source": [
    "prediction_score(df)"
   ]
  },
  {
   "cell_type": "code",
   "execution_count": null,
   "metadata": {},
   "outputs": [],
   "source": []
  }
 ],
 "metadata": {
  "kernelspec": {
   "display_name": "Python 3",
   "language": "python",
   "name": "python3"
  },
  "language_info": {
   "codemirror_mode": {
    "name": "ipython",
    "version": 3
   },
   "file_extension": ".py",
   "mimetype": "text/x-python",
   "name": "python",
   "nbconvert_exporter": "python",
   "pygments_lexer": "ipython3",
   "version": "3.7.3"
  }
 },
 "nbformat": 4,
 "nbformat_minor": 4
}
