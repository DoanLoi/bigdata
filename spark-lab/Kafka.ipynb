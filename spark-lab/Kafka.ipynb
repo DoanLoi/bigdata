{
 "cells": [
  {
   "cell_type": "code",
   "execution_count": 1,
   "metadata": {},
   "outputs": [],
   "source": [
    "import os \n",
    "\n",
    "packages = \"org.apache.spark:spark-sql-kafka-0-10_2.12:3.0.1\"\n",
    "os.environ[\"PYSPARK_PYTHON\"]=\"python3.7\"\n",
    "os.environ[\"PYSPARK_DRIVER_PYTHON\"]=\"python3.7\"\n",
    "os.environ[\"PYSPARK_SUBMIT_ARGS\"] = (\"--packages {0} pyspark-shell\".format(packages))"
   ]
  },
  {
   "cell_type": "code",
   "execution_count": 2,
   "metadata": {},
   "outputs": [],
   "source": [
    "from pyspark.sql import SparkSession, DataFrame\n",
    "from pyspark.sql.functions import *\n",
    "from pyspark.sql.types import *\n",
    "\n",
    "KAFKA_BROKER = \"kafka:9092\"\n",
    "KAFKA_TOPIC = \"fixcer\"\n",
    "\n",
    "spark = SparkSession \\\n",
    "        .builder \\\n",
    "        .master(\"spark://spark-master:7077\") \\\n",
    "        .appName(\"Kafka\") \\\n",
    "        .getOrCreate()"
   ]
  },
  {
   "cell_type": "code",
   "execution_count": 3,
   "metadata": {},
   "outputs": [],
   "source": [
    "df = spark.read.format(\"json\").option(\"mode\", \"FAILFAST\") \\\n",
    "        .option(\"inferSchema\", \"true\").load(\"hdfs://namenode/user/root/input/data10.json\")"
   ]
  },
  {
   "cell_type": "code",
   "execution_count": 4,
   "metadata": {},
   "outputs": [
    {
     "name": "stdout",
     "output_type": "stream",
     "text": [
      "root\n",
      " |-- androidVersion: string (nullable = true)\n",
      " |-- category: string (nullable = true)\n",
      " |-- comments: array (nullable = true)\n",
      " |    |-- element: string (containsNull = true)\n",
      " |-- contentRating: string (nullable = true)\n",
      " |-- currentVersion: string (nullable = true)\n",
      " |-- installs: long (nullable = true)\n",
      " |-- lastUpdate: long (nullable = true)\n",
      " |-- price: double (nullable = true)\n",
      " |-- ratings: long (nullable = true)\n",
      " |-- reviews: long (nullable = true)\n",
      " |-- score: double (nullable = true)\n",
      " |-- size: string (nullable = true)\n",
      " |-- title: string (nullable = true)\n",
      "\n"
     ]
    }
   ],
   "source": [
    "df.printSchema()"
   ]
  },
  {
   "cell_type": "code",
   "execution_count": 5,
   "metadata": {},
   "outputs": [],
   "source": [
    "df = df.na.drop().dropDuplicates()"
   ]
  },
  {
   "cell_type": "code",
   "execution_count": 6,
   "metadata": {},
   "outputs": [],
   "source": [
    "df = df.filter(size(df['comments']) >= 30)"
   ]
  },
  {
   "cell_type": "code",
   "execution_count": 7,
   "metadata": {},
   "outputs": [],
   "source": [
    "import re\n",
    "\n",
    "def convertString(string):\n",
    "    try:\n",
    "        string = re.sub('\\D', '', string)\n",
    "        return int(string)\n",
    "    except:\n",
    "        return 0\n",
    "        \n",
    "\n",
    "convert = udf(convertString, IntegerType())\n",
    "df = df.withColumn(\"androidVersion\", convert(col(\"androidVersion\")))\n",
    "df = df.withColumn(\"currentVersion\", convert(col(\"currentVersion\")))\n",
    "df = df.withColumn(\"size\", convert(col(\"size\")))"
   ]
  },
  {
   "cell_type": "code",
   "execution_count": 8,
   "metadata": {},
   "outputs": [
    {
     "name": "stdout",
     "output_type": "stream",
     "text": [
      "+--------------+-----------------+----------------------------------+-------------+--------------+--------+----------+-----+-------+-------+---------+----+-------------------------------+\n",
      "|androidVersion|         category|                          comments|contentRating|currentVersion|installs|lastUpdate|price|ratings|reviews|    score|size|                          title|\n",
      "+--------------+-----------------+----------------------------------+-------------+--------------+--------+----------+-----+-------+-------+---------+----+-------------------------------+\n",
      "|            50|          Weather|              [Recent updates a...| Everyone 10+|         43552|   10000|1602129706|  0.0|    104|     51|     3.51|  32|           KX Storm Team - N...|\n",
      "|            41|Books & Reference|              [no Arabic audio,...|     Everyone|           163|    5000|1559180891|  0.0|    247|     80|     4.75|  59|           Quran Audio - Urd...|\n",
      "|            41|         Business|              [Not to happy. Si...|     Everyone|          4194|   10000|1591121081|  0.0|     66|     41| 2.590909|  22|           Reflexis ESS - Be...|\n",
      "|            40|    Entertainment|              [Sagemcom 3890v3 ...|     Everyone|         32349| 1000000|1602494901|  0.0|   6415|   1875|3.3120124|  53|                     Műsorújság|\n",
      "|            60|           Social|              [Não funciona no ...|     Everyone|           220|10000000|1604557570|  0.0|  59239|  28806|3.2717285|  18|                       e-Título|\n",
      "|            70| News & Magazines|              [Now I see why de...| Everyone 10+|            50|   10000|1602601617|  0.0|    154|     59|      2.7|  23|           Calgary Sun – New...|\n",
      "|            60|Maps & Navigation|              [I can't book a r...|     Everyone|           665|  100000|1604421992|  0.0|   1821|    930|4.2637362|  35|           Marcel - VTC et c...|\n",
      "|            41|        Education|              [Excellent app so...|     Everyone|           110|  500000|1600055721|  0.0|  14841|   5485|4.3728127|  15|           IASbaba UPSC & IA...|\n",
      "|            41|           Arcade|              [It is really a g...|     Everyone|           333| 1000000|1548586114|  0.0|  17014|   4361|3.9437609|  21|           Dropple: Addictin...|\n",
      "|             0|Books & Reference|              [There is a huge ...|     Everyone|             0| 1000000|1604700718|  0.0|  47715|  13946|  4.59673|   0|           Sinhala Dictionar...|\n",
      "|            41|    Entertainment|              [It's so good bea...|     Everyone|           107|  100000|1598939681|  0.0|    279|    137|     4.23|  66|                   Talking Bear|\n",
      "|            60|  Auto & Vehicles|              [this is awesome ...|     Everyone|         42100| 1000000|1604560497|  0.0|   8195|   4927| 4.656136|  19|카닥 - 자동차수리, 오일교환,...|\n",
      "|            40|  Auto & Vehicles|              [Has potential to...|     Everyone|           155|   10000|1604875692| 2.49|    259|    118|     4.33|  30|           Realtime Charts f...|\n",
      "|            43|           Dating|[해외에선 회원가입이 안되는것같...|   Mature 17+|           245|  500000|1600888836|  0.0|  23199|  20534|4.7134304|  10|썸데이 - 이상형 만남 소개팅 ...|\n",
      "|            70|     Food & Drink|              [I scan every tim...|     Everyone|           125|  500000|1598263608|  0.0|   1600|    926|3.8198757|  36|                  Jumbo Extra's|\n",
      "|            50|        Lifestyle|              [the most importa...|     Everyone|           173| 1000000|1597632921|  0.0|  38810|  14620|3.2489786|  17|                       TIM beta|\n",
      "|            41| News & Magazines|              [All of my paragr...| Everyone 10+|           745|   10000|1586900532|  0.0|    190|     88|     2.97|  29|           Delaware County D...|\n",
      "|            43| Health & Fitness|              [I have to re-con...|     Everyone|           522| 1000000|1600248328|  0.0|  14646|   8866|4.5125256|  24|           Openrider - GPS C...|\n",
      "|            44|     House & Home|              [I can create roo...|     Everyone|           113|  100000|1598425796|  0.0|    746|    485|3.2941177|  62|                          Genio|\n",
      "|            60|         Business|              [Easy to navigate...|     Everyone|           288|  100000|1604446987|  0.0|    241|     51| 4.207921|  95|           realcommercial.co...|\n",
      "+--------------+-----------------+----------------------------------+-------------+--------------+--------+----------+-----+-------+-------+---------+----+-------------------------------+\n",
      "only showing top 20 rows\n",
      "\n"
     ]
    }
   ],
   "source": [
    "df.show()"
   ]
  },
  {
   "cell_type": "code",
   "execution_count": 9,
   "metadata": {},
   "outputs": [
    {
     "name": "stdout",
     "output_type": "stream",
     "text": [
      "root\n",
      " |-- androidVersion: integer (nullable = true)\n",
      " |-- category: string (nullable = true)\n",
      " |-- comments: array (nullable = true)\n",
      " |    |-- element: string (containsNull = true)\n",
      " |-- contentRating: string (nullable = true)\n",
      " |-- currentVersion: integer (nullable = true)\n",
      " |-- installs: long (nullable = true)\n",
      " |-- lastUpdate: long (nullable = true)\n",
      " |-- price: double (nullable = true)\n",
      " |-- ratings: long (nullable = true)\n",
      " |-- reviews: long (nullable = true)\n",
      " |-- score: double (nullable = true)\n",
      " |-- size: integer (nullable = true)\n",
      " |-- title: string (nullable = true)\n",
      "\n"
     ]
    }
   ],
   "source": [
    "df.printSchema()"
   ]
  },
  {
   "cell_type": "code",
   "execution_count": 10,
   "metadata": {},
   "outputs": [
    {
     "name": "stdout",
     "output_type": "stream",
     "text": [
      "+--------------------+--------------------+\n",
      "|                 key|               value|\n",
      "+--------------------+--------------------+\n",
      "|KX Storm Team - N...|{\"androidVersion\"...|\n",
      "|Quran Audio - Urd...|{\"androidVersion\"...|\n",
      "|Reflexis ESS - Be...|{\"androidVersion\"...|\n",
      "|          Műsorújság|{\"androidVersion\"...|\n",
      "|            e-Título|{\"androidVersion\"...|\n",
      "+--------------------+--------------------+\n",
      "only showing top 5 rows\n",
      "\n"
     ]
    }
   ],
   "source": [
    "df = df.withColumn('value' ,to_json(struct([df[x] for x in df.columns])))\n",
    "\n",
    "df.selectExpr(\"CAST(title AS STRING) as key\", \"CAST(value AS STRING) as value\").show(5)"
   ]
  },
  {
   "cell_type": "code",
   "execution_count": 11,
   "metadata": {},
   "outputs": [],
   "source": [
    "df.selectExpr(\"CAST(title AS STRING) as key\", \"CAST(value AS STRING)\") \\\n",
    "  .write \\\n",
    "  .format(\"kafka\") \\\n",
    "  .option(\"kafka.bootstrap.servers\", KAFKA_BROKER) \\\n",
    "  .option(\"topic\", KAFKA_TOPIC) \\\n",
    "  .save()"
   ]
  },
  {
   "cell_type": "code",
   "execution_count": 12,
   "metadata": {},
   "outputs": [],
   "source": [
    "spark.stop()"
   ]
  },
  {
   "cell_type": "code",
   "execution_count": null,
   "metadata": {},
   "outputs": [],
   "source": []
  }
 ],
 "metadata": {
  "kernelspec": {
   "display_name": "Python 3",
   "language": "python",
   "name": "python3"
  },
  "language_info": {
   "codemirror_mode": {
    "name": "ipython",
    "version": 3
   },
   "file_extension": ".py",
   "mimetype": "text/x-python",
   "name": "python",
   "nbconvert_exporter": "python",
   "pygments_lexer": "ipython3",
   "version": "3.7.3"
  }
 },
 "nbformat": 4,
 "nbformat_minor": 4
}
