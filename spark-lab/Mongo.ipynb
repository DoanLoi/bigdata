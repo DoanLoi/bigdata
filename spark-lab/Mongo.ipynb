{
 "cells": [
  {
   "cell_type": "code",
   "execution_count": 1,
   "metadata": {},
   "outputs": [],
   "source": [
    "import os\n",
    "os.environ[\"PYSPARK_PYTHON\"]=\"python3.7\"\n",
    "os.environ[\"PYSPARK_DRIVER_PYTHON\"]=\"python3.7\""
   ]
  },
  {
   "cell_type": "code",
   "execution_count": 2,
   "metadata": {},
   "outputs": [],
   "source": [
    "from pyspark.sql import SparkSession, DataFrame\n",
    "from pyspark.sql.functions import *\n",
    "from pyspark.sql.types import *\n",
    "\n",
    "spark = SparkSession \\\n",
    "        .builder \\\n",
    "        .master(\"spark://spark-master:7077\") \\\n",
    "        .appName(\"Mongo\") \\\n",
    "        .config(\"spark.mongodb.input.uri\", \"mongodb://172.16.0.4:27017/bigdata.apps\") \\\n",
    "        .config(\"spark.mongodb.output.uri\", \"mongodb://172.16.0.4:27017/bigdata.application\") \\\n",
    "        .config(\"spark.jars.packages\", \"org.mongodb.spark:mongo-spark-connector_2.12:3.0.0\") \\\n",
    "        .getOrCreate()"
   ]
  },
  {
   "cell_type": "code",
   "execution_count": 3,
   "metadata": {},
   "outputs": [],
   "source": [
    "df = spark.read.format(\"mongo\").load()"
   ]
  },
  {
   "cell_type": "code",
   "execution_count": 5,
   "metadata": {},
   "outputs": [
    {
     "name": "stdout",
     "output_type": "stream",
     "text": [
      "root\n",
      " |-- _id: struct (nullable = true)\n",
      " |    |-- oid: string (nullable = true)\n",
      " |-- androidVersion: string (nullable = true)\n",
      " |-- category: string (nullable = true)\n",
      " |-- comments: array (nullable = true)\n",
      " |    |-- element: string (containsNull = true)\n",
      " |-- contentRating: string (nullable = true)\n",
      " |-- currentVersion: string (nullable = true)\n",
      " |-- installs: integer (nullable = true)\n",
      " |-- lastUpdate: integer (nullable = true)\n",
      " |-- price: double (nullable = true)\n",
      " |-- ratings: integer (nullable = true)\n",
      " |-- reviews: integer (nullable = true)\n",
      " |-- score: double (nullable = true)\n",
      " |-- size: string (nullable = true)\n",
      " |-- title: string (nullable = true)\n",
      "\n"
     ]
    }
   ],
   "source": [
    "df.printSchema()"
   ]
  },
  {
   "cell_type": "code",
   "execution_count": null,
   "metadata": {},
   "outputs": [],
   "source": []
  }
 ],
 "metadata": {
  "kernelspec": {
   "display_name": "Python 3",
   "language": "python",
   "name": "python3"
  },
  "language_info": {
   "codemirror_mode": {
    "name": "ipython",
    "version": 3
   },
   "file_extension": ".py",
   "mimetype": "text/x-python",
   "name": "python",
   "nbconvert_exporter": "python",
   "pygments_lexer": "ipython3",
   "version": "3.7.3"
  }
 },
 "nbformat": 4,
 "nbformat_minor": 4
}
