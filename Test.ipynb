{
 "cells": [
  {
   "cell_type": "markdown",
   "metadata": {},
   "source": [
    "# Đọc dữ liệu từ HDFS"
   ]
  },
  {
   "cell_type": "code",
   "execution_count": 1,
   "metadata": {},
   "outputs": [],
   "source": [
    "import json\n",
    "from functools import reduce\n",
    "from pyspark.sql import SparkSession, DataFrame\n",
    "from pyspark.sql.functions import *\n",
    "from pyspark.sql.types import *\n",
    "\n",
    "spark = SparkSession.builder \\\n",
    "            .master(\"local\") \\\n",
    "            .appName(\"Tutorial\") \\\n",
    "            .config(\"spark.some.config.option\") \\\n",
    "            .getOrCreate()"
   ]
  },
  {
   "cell_type": "code",
   "execution_count": 2,
   "metadata": {},
   "outputs": [],
   "source": [
    "def unionAll(*dfs):\n",
    "    return reduce(DataFrame.unionAll, dfs)"
   ]
  },
  {
   "cell_type": "code",
   "execution_count": 3,
   "metadata": {},
   "outputs": [],
   "source": [
    "df = []\n",
    "for i in range(10):\n",
    "    df.append(spark.read.format(\"json\")\n",
    "              .load(\"hdfs://namenode:9000/user/root/input/data{}.json\".format(i+1), multiLine = \"true\"))"
   ]
  },
  {
   "cell_type": "code",
   "execution_count": 4,
   "metadata": {},
   "outputs": [],
   "source": [
    "df = unionAll(df[0], df[1], df[2], df[3], df[4], df[5], df[6], df[7], df[8], df[9])"
   ]
  },
  {
   "cell_type": "code",
   "execution_count": 5,
   "metadata": {},
   "outputs": [
    {
     "name": "stdout",
     "output_type": "stream",
     "text": [
      "root\n",
      " |-- androidVersion: string (nullable = true)\n",
      " |-- category: string (nullable = true)\n",
      " |-- comments: array (nullable = true)\n",
      " |    |-- element: string (containsNull = true)\n",
      " |-- contentRating: string (nullable = true)\n",
      " |-- currentVersion: string (nullable = true)\n",
      " |-- installs: long (nullable = true)\n",
      " |-- lastUpdate: long (nullable = true)\n",
      " |-- price: double (nullable = true)\n",
      " |-- ratings: long (nullable = true)\n",
      " |-- reviews: long (nullable = true)\n",
      " |-- score: double (nullable = true)\n",
      " |-- size: string (nullable = true)\n",
      " |-- title: string (nullable = true)\n",
      "\n"
     ]
    }
   ],
   "source": [
    "df.printSchema()"
   ]
  },
  {
   "cell_type": "code",
   "execution_count": 6,
   "metadata": {},
   "outputs": [
    {
     "data": {
      "text/plain": [
       "188269"
      ]
     },
     "execution_count": 6,
     "metadata": {},
     "output_type": "execute_result"
    }
   ],
   "source": [
    "df.count()"
   ]
  },
  {
   "cell_type": "code",
   "execution_count": 7,
   "metadata": {},
   "outputs": [],
   "source": [
    "df = df.na.drop().dropDuplicates()"
   ]
  },
  {
   "cell_type": "code",
   "execution_count": 8,
   "metadata": {},
   "outputs": [],
   "source": [
    "df = df.filter(size(df['comments']) >= 30)"
   ]
  },
  {
   "cell_type": "code",
   "execution_count": 9,
   "metadata": {},
   "outputs": [
    {
     "data": {
      "text/plain": [
       "70745"
      ]
     },
     "execution_count": 9,
     "metadata": {},
     "output_type": "execute_result"
    }
   ],
   "source": [
    "df.count()"
   ]
  },
  {
   "cell_type": "code",
   "execution_count": 10,
   "metadata": {},
   "outputs": [
    {
     "data": {
      "text/plain": [
       "Row(androidVersion='4.1', category='Strategy', comments=['Fun game but its not clear when something will run out of fuel and how long it will take to repair. No gameplay issues.', \"The game itself is really good I was very hooked until I bought an in app purchase, I didn't even receive half of what I payed for, I followed the advice on how to fix the issue and ended up losing all my game data and purchases as well. So I contacted the game developers and ask them instead of a refund could they add to my account the things that I had payed for. I am pleased to say the developer resolved the issue and I'm back enjoying a great game whoop.\", 'Wow.. I really wanted to play a game like this.. if someone wanna play a game like this .. he must train his brain for combat and counter strike and air advancing ... artillery support and defence mechanisms when getting hard to offend .. I really appreciate a game.. and the hardness to play.. um really playing A mission For nearly 1 hrs .. cuz without strategy there will be no win.. and um praying may there be no more war in this world. 🙂💯', \"Started playing this game yesterday & I ABSOLUTELY LOVE IT!!! I cant put it down yet, lol. The graphics are good, game play is smooth & easy. Although unlocking the space for extra troops & generals is expensive, you can play without the need for it. Way better than many others i've tried. Re-rated it 5* because its just an awesome game! Havent encountered any problems & dont expect to either. FREAKING GREAT & AWESOME GAME! So glad I found it. Much love! 💞\", 'Really good game, i really enjoy it. This game is killer. But after i passed 10 level on the axis campaign, the enemy is so ridiculous. Unlimited resources and the enemy just keep coming. You have to pay some of the special troop to win this in my opinion. So after 3 weeks i decided to uninstall it. Thanks for the amazing three weeks joynow. Hope there will be update on the game for more \"realistic\" Campaign level', 'Lots of bugs encountered in just few hours. (1) First free General hero given to the player is not useable on any troop, game states he is already being used, but is not. (2) Player moving adjacent to an enemy not visible prior to movement due to fog of war gets ambushed, taking damage. AI opponent units never get ambushed when moving next to my unit from 5 spaces away, no towns or units nearby; hence there was no way my unit was visible prior to its moving next to it and attacking my unit...', 'This game is really fun the graphics are good and it really makes me think on how to play love puzzle games', \"Good but I'm only beginning, after playing for a while I found the experience demoralising as the request for purchasing items was not worth the battle of playing. Also this gives others a distinct advantage in the game. Bu I enjoyed what first levels I played. But I refuse to purchase extra items.\", 'Makes u use your brain. Fun to upgrade your units. Game does get really hard. And youll have to replay missions over and over again. You wont progress until next level until 3 stars are obtained on the level your on. Kinda sucks. The mines are the most annoying if you ask me.', 'This is a great game, very fun and easy to learn. The Ai is competitive which really improves the strategy part. But the game does have its share of bugs.... Why do the planes refuel in some levels but not in others? Spending money on thi game is not unreasonable, but in game prices are high.', \"The game is cool. You don't half to spend money. Get your medals each day for a month straight. You can spend them on,tanks, general's, and cash. Simple. 5 stars. Waiting on the next level being made. Can't wait.!\", 'Pretty fun, design a bit to heavily to illicit money to pass levels.', \"The instructions absolutely suck try telling in plain english how to refill your fuel ammo etc. Pressing the replenish button is stupid if you dont tell where it is way to costly and way to vague and Ive seen alot better lower the cost and add some decent instructions and it might be a decent game. The game could be really fun if it wasn't so money hungry for every little upgrade. I paid for an in app purchase and it was never delivered and there is no way to contact the developers. CROOKS\", 'Would have been a nice and fun strategy game, but... Just review and correct your English texts with language SMEs. I didn\\'t go too deep into the game; however, seems to be a little of \"pay to win\", but at acceptable level as per my view. Keep improving and you\\'ll get there.', 'The USSR campaign is fun up until map 6. You have to be ridiculously good at strategizing or u have to pay to add 3 more troops.', \"Really great game but I am not able to get past level 6 even on normal mode it's just too hard to win been stuck at that level for days now and it's irrigating. Request to the creator to make it also playable for the people without the purchase.\", 'Excellent game. A little pay-to-play but manageable. Fun game.', 'Be a great second chapter game if you could upgrade vehicles and generals easier. Some missions are impossible to get through, just like on the first chapter of this game.', 'Same as the napoleonic war game. Good strategical game. Few improvements needed mind.', \"Enjoyed the game it's reminding me of playing Panzer General. Anyhow after 2-3days play I can't move on AI is coming with more advanced units. Seems like I'm pushed towards buying packages which turns me off, also on first glance it feels intransparent and high priced. Probably uninstall soon.\", \"I played the older version of this and thoroughly enjoyed it this version 1000 times better I will recommend it to anyone but beware it's addictive have fun Only one minor criticism I put money on the game then mistakenly over wrote the medals I had just purchased it seems it is too easy to do this but does not take away my enjoyment\", 'Entertaining but quickly pay to win unless you go on a long slow grind fest', 'Was going great a d then the game took a bunch of medals from me. I wasted hours watching a ton of ads to get 150 medals just vanish. I was so angry I delet3d the game.', \"Too confusing. Should have step by step to learn the game. The current tutorial isn't good enough. Campaign is also too difficult. To play you must spend money. I don't recommend.\", \"Very awesome game . I love every single part it. But when you get to level 11+ it's like the enemy gets unlimited resources . Is there a guide to success ? Other than the game is awesome and challenging.\", 'Same old money seeker! Almost imposdible to get 3 stars after first few missions! You have to watch the ads over n over to get fund for unit repairment! You need to purchase medals to get 3 stars! Wasting time, uninstalled!', \"I like the general concept, I dislike games that want u to build an collect resources. Here you get money an medals to advance. The info screens don't fit an you can't scroll to read all of it which is a negative.\", 'Winning battles dont give good payouts. And when you upgrade your troops it cost so much for someone that cant pay with real cash for the really good tanks or planes...', \"Nice to play, but too many enemy. Can't play to win. Sorry, for 3 star\", 'So far,so good ... Upgrading in accordance to accomplishments. Earnings are steady. Great strategic battles. Try different game plans and out comes. And save it. Nice!', 'Game play is great but it take a long while to earn points to unlock anything. This game is NOT for the impatient and is definitely pay to win.', 'Pay to win isnt as bad for this title.. but still very annoying', 'Its feels like we live in 1992...sound, graphic...like micro genius @atari..🤭🙄', 'Love this strategic turn based game. Very fun and lots of upgrades makes it even better!', \"If you don't plan to pay you can't play any campaign other than the tutorial.\", \"Pay to win all the way. But it's not too bad- IF you have a ton of patience....\", \"Only problem is you can't see the stats of the tanks before you buy them\", \"Very good game, lot's of strategy and thinking involved... Bravo!!\", \"On level three on both sides the enemy always has more troops and better positions then you so I'd you switch sides\", 'It an interesting game.. Love the graffic... But i will give you 4 star and retain 1 for God.'], contentRating='Teen', currentVersion='2.7.7', installs=500000, lastUpdate=1603955156, price=0.0, ratings=16028, reviews=3097, score=4.509604, size='100M', title='World War 2: WW2 Strategy Games')"
      ]
     },
     "execution_count": 10,
     "metadata": {},
     "output_type": "execute_result"
    }
   ],
   "source": [
    "df.head()"
   ]
  },
  {
   "cell_type": "code",
   "execution_count": 17,
   "metadata": {},
   "outputs": [
    {
     "name": "stdout",
     "output_type": "stream",
     "text": [
      "+--------------+-----+\n",
      "|androidVersion|count|\n",
      "+--------------+-----+\n",
      "|           4.1|19616|\n",
      "|           5.0|12915|\n",
      "|           4.4|10074|\n",
      "|         4.0.3| 4507|\n",
      "|           4.0| 4447|\n",
      "|        Varies| 4281|\n",
      "|           4.2| 3594|\n",
      "|           6.0| 2331|\n",
      "|           2.3| 1842|\n",
      "|           4.3| 1721|\n",
      "|           5.1|  963|\n",
      "|           7.0|  945|\n",
      "|           2.2|  772|\n",
      "|         2.3.3|  609|\n",
      "|           3.0|  508|\n",
      "|           2.1|  485|\n",
      "|           1.6|  279|\n",
      "|           8.0|  200|\n",
      "|          4.4W|  165|\n",
      "|           2.0|  155|\n",
      "+--------------+-----+\n",
      "only showing top 20 rows\n",
      "\n"
     ]
    }
   ],
   "source": [
    "df.groupby('androidVersion').count().sort('count', ascending=False).show()"
   ]
  },
  {
   "cell_type": "code",
   "execution_count": null,
   "metadata": {},
   "outputs": [],
   "source": []
  }
 ],
 "metadata": {
  "kernelspec": {
   "display_name": "Python 3",
   "language": "python",
   "name": "python3"
  },
  "language_info": {
   "codemirror_mode": {
    "name": "ipython",
    "version": 3
   },
   "file_extension": ".py",
   "mimetype": "text/x-python",
   "name": "python",
   "nbconvert_exporter": "python",
   "pygments_lexer": "ipython3",
   "version": "3.8.6"
  }
 },
 "nbformat": 4,
 "nbformat_minor": 4
}
